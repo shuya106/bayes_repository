{
 "cells": [
  {
   "cell_type": "markdown",
   "metadata": {},
   "source": [
    "# このノートブックについて\n",
    "\n",
    "コイントスを題材にベイズ推定の練習をする  \n",
    "なお、表が出る=1とする。"
   ]
  },
  {
   "cell_type": "markdown",
   "metadata": {},
   "source": [
    "# ライブラリインポート"
   ]
  },
  {
   "cell_type": "code",
   "execution_count": 1,
   "metadata": {
    "scrolled": true
   },
   "outputs": [
    {
     "name": "stderr",
     "output_type": "stream",
     "text": [
      "/Users/morishuuya/.pyenv/versions/anaconda3-2019.03/envs/base2/lib/python3.7/site-packages/dask/config.py:168: YAMLLoadWarning: calling yaml.load() without Loader=... is deprecated, as the default Loader is unsafe. Please read https://msg.pyyaml.org/load for full details.\n",
      "  data = yaml.load(f.read()) or {}\n",
      "/Users/morishuuya/.pyenv/versions/anaconda3-2019.03/envs/base2/lib/python3.7/site-packages/distributed/config.py:20: YAMLLoadWarning: calling yaml.load() without Loader=... is deprecated, as the default Loader is unsafe. Please read https://msg.pyyaml.org/load for full details.\n",
      "  defaults = yaml.load(f)\n"
     ]
    }
   ],
   "source": [
    "import numpy as np\n",
    "import matplotlib.pyplot as plt\n",
    "from scipy import stats as stats\n",
    "import seaborn as sns\n",
    "import pymc3 as pm\n",
    "import arviz as az\n",
    "import pandas as pd"
   ]
  },
  {
   "cell_type": "markdown",
   "metadata": {},
   "source": [
    "# 関数"
   ]
  },
  {
   "cell_type": "code",
   "execution_count": 2,
   "metadata": {},
   "outputs": [],
   "source": [
    "# ベータ事後分布からα、βの値を計算する関数\n",
    "def calc_ab(trace):\n",
    "    ex = trace[\"p\"].mean()\n",
    "    varx = trace[\"p\"].var()\n",
    "    \n",
    "    alpha = ((ex**2) * ( 1 - ex) * 1 / varx ) - ex\n",
    "    beta = (alpha / ex) - alpha\n",
    "    \n",
    "    return alpha, beta"
   ]
  },
  {
   "cell_type": "markdown",
   "metadata": {},
   "source": [
    "# 実験１\n",
    "\n",
    "事前分布：ベータ一様分布  \n",
    "真の確率：0.1\n",
    "\n",
    "とてもイカサマコイン"
   ]
  },
  {
   "cell_type": "code",
   "execution_count": 111,
   "metadata": {
    "scrolled": false
   },
   "outputs": [
    {
     "name": "stderr",
     "output_type": "stream",
     "text": [
      "Auto-assigning NUTS sampler...\n",
      "Initializing NUTS using jitter+adapt_diag...\n",
      "Sequential sampling (1 chains in 1 job)\n",
      "NUTS: [p]\n",
      "100%|██████████| 5500/5500 [00:02<00:00, 2322.49it/s]\n",
      "Only one chain was sampled, this makes it impossible to run some convergence checks\n"
     ]
    },
    {
     "data": {
      "text/plain": [
       "'summary:'"
      ]
     },
     "metadata": {},
     "output_type": "display_data"
    },
    {
     "data": {
      "text/html": [
       "<div>\n",
       "<style scoped>\n",
       "    .dataframe tbody tr th:only-of-type {\n",
       "        vertical-align: middle;\n",
       "    }\n",
       "\n",
       "    .dataframe tbody tr th {\n",
       "        vertical-align: top;\n",
       "    }\n",
       "\n",
       "    .dataframe thead th {\n",
       "        text-align: right;\n",
       "    }\n",
       "</style>\n",
       "<table border=\"1\" class=\"dataframe\">\n",
       "  <thead>\n",
       "    <tr style=\"text-align: right;\">\n",
       "      <th></th>\n",
       "      <th>mean</th>\n",
       "      <th>sd</th>\n",
       "      <th>mc_error</th>\n",
       "      <th>hpd_2.5</th>\n",
       "      <th>hpd_97.5</th>\n",
       "    </tr>\n",
       "  </thead>\n",
       "  <tbody>\n",
       "    <tr>\n",
       "      <th>p</th>\n",
       "      <td>0.118832</td>\n",
       "      <td>0.010175</td>\n",
       "      <td>0.000221</td>\n",
       "      <td>0.099785</td>\n",
       "      <td>0.13925</td>\n",
       "    </tr>\n",
       "  </tbody>\n",
       "</table>\n",
       "</div>"
      ],
      "text/plain": [
       "       mean        sd  mc_error   hpd_2.5  hpd_97.5\n",
       "p  0.118832  0.010175  0.000221  0.099785   0.13925"
      ]
     },
     "metadata": {},
     "output_type": "display_data"
    },
    {
     "data": {
      "text/plain": [
       "array([[<matplotlib.axes._subplots.AxesSubplot object at 0x1c26f89358>,\n",
       "        <matplotlib.axes._subplots.AxesSubplot object at 0x1c26e330f0>]],\n",
       "      dtype=object)"
      ]
     },
     "execution_count": 111,
     "metadata": {},
     "output_type": "execute_result"
    },
    {
     "data": {
      "image/png": "[encoded data removed]",
      "text/plain": [
       "<Figure size 864x144 with 2 Axes>"
      ]
     },
     "metadata": {
      "needs_background": "light"
     },
     "output_type": "display_data"
    }
   ],
   "source": [
    "true_p = 0.1\n",
    "observed = stats.bernoulli.rvs(p = true_p, size = 1000)\n",
    "n = len(observed)\n",
    "\n",
    "with pm.Model() as model_1:\n",
    "    p = pm.Beta(\"p\", alpha = 1, beta = 1)\n",
    "    obs = pm.Bernoulli(\"obs\",p=p, observed=observed)\n",
    "    \n",
    "    trace_1 = pm.sample(5000, chains=1)\n",
    "\n",
    "display(\"summary:\",pm.summary(trace_1))\n",
    "pm.traceplot(trace_1)"
   ]
  },
  {
   "cell_type": "markdown",
   "metadata": {},
   "source": [
    "真の確率0.1に対し、事後分布の平均値が0.11となっているため概ね正しい。"
   ]
  },
  {
   "cell_type": "markdown",
   "metadata": {},
   "source": [
    "# 実験２\n",
    "実験１の事後分布を事前分布として用い新たに推定する  \n",
    "\n",
    "事前分布：実験１の事後分布  \n",
    "真の確率:0.5\n",
    "\n",
    "今度はまともなコイン"
   ]
  },
  {
   "cell_type": "markdown",
   "metadata": {},
   "source": [
    "## 事前分布の計算"
   ]
  },
  {
   "cell_type": "code",
   "execution_count": 112,
   "metadata": {},
   "outputs": [
    {
     "name": "stdout",
     "output_type": "stream",
     "text": [
      "alpha: 120.06311596685643\n",
      "beta: 890.2994029720778\n"
     ]
    }
   ],
   "source": [
    "alpha , beta = calc_ab(trace_1)\n",
    "print(\"alpha:\", alpha)\n",
    "print(\"beta:\", beta)"
   ]
  },
  {
   "cell_type": "code",
   "execution_count": 114,
   "metadata": {
    "scrolled": false
   },
   "outputs": [
    {
     "name": "stderr",
     "output_type": "stream",
     "text": [
      "Auto-assigning NUTS sampler...\n",
      "Initializing NUTS using jitter+adapt_diag...\n",
      "Sequential sampling (1 chains in 1 job)\n",
      "NUTS: [p]\n",
      "100%|██████████| 5500/5500 [00:02<00:00, 2375.07it/s]\n",
      "Only one chain was sampled, this makes it impossible to run some convergence checks\n"
     ]
    },
    {
     "data": {
      "text/plain": [
       "'summary:'"
      ]
     },
     "metadata": {},
     "output_type": "display_data"
    },
    {
     "data": {
      "text/html": [
       "<div>\n",
       "<style scoped>\n",
       "    .dataframe tbody tr th:only-of-type {\n",
       "        vertical-align: middle;\n",
       "    }\n",
       "\n",
       "    .dataframe tbody tr th {\n",
       "        vertical-align: top;\n",
       "    }\n",
       "\n",
       "    .dataframe thead th {\n",
       "        text-align: right;\n",
       "    }\n",
       "</style>\n",
       "<table border=\"1\" class=\"dataframe\">\n",
       "  <thead>\n",
       "    <tr style=\"text-align: right;\">\n",
       "      <th></th>\n",
       "      <th>mean</th>\n",
       "      <th>sd</th>\n",
       "      <th>mc_error</th>\n",
       "      <th>hpd_2.5</th>\n",
       "      <th>hpd_97.5</th>\n",
       "    </tr>\n",
       "  </thead>\n",
       "  <tbody>\n",
       "    <tr>\n",
       "      <th>p</th>\n",
       "      <td>0.296939</td>\n",
       "      <td>0.010494</td>\n",
       "      <td>0.000208</td>\n",
       "      <td>0.276057</td>\n",
       "      <td>0.317043</td>\n",
       "    </tr>\n",
       "  </tbody>\n",
       "</table>\n",
       "</div>"
      ],
      "text/plain": [
       "       mean        sd  mc_error   hpd_2.5  hpd_97.5\n",
       "p  0.296939  0.010494  0.000208  0.276057  0.317043"
      ]
     },
     "metadata": {},
     "output_type": "display_data"
    },
    {
     "data": {
      "text/plain": [
       "array([[<matplotlib.axes._subplots.AxesSubplot object at 0x1c2567eeb8>,\n",
       "        <matplotlib.axes._subplots.AxesSubplot object at 0x1c26537c50>]],\n",
       "      dtype=object)"
      ]
     },
     "execution_count": 114,
     "metadata": {},
     "output_type": "execute_result"
    },
    {
     "data": {
      "image/png": "[encoded data removed]",
      "text/plain": [
       "<Figure size 864x144 with 2 Axes>"
      ]
     },
     "metadata": {
      "needs_background": "light"
     },
     "output_type": "display_data"
    }
   ],
   "source": [
    "true_p = 0.5\n",
    "observed = stats.bernoulli.rvs(p = true_p, size = 1000)\n",
    "\n",
    "with pm.Model() as model_2:\n",
    "    p = pm.Beta(\"p\", alpha = alpha, beta = beta)\n",
    "    obs = pm.Bernoulli(\"obs\",p=p, observed=observed)\n",
    "    \n",
    "    trace_2 = pm.sample(5000, chains=1)\n",
    "\n",
    "display(\"summary:\",pm.summary(trace_2))\n",
    "pm.traceplot(trace_2)"
   ]
  },
  {
   "cell_type": "markdown",
   "metadata": {},
   "source": [
    "真の確率0.5に対し、 事後分布の平均値0.29だった\n",
    "\n",
    "事前分布の影響が多大である"
   ]
  },
  {
   "cell_type": "markdown",
   "metadata": {},
   "source": [
    "# 実験3\n",
    "\n",
    "途中でイカサマコインにすり替えられた  \n",
    "すり替えたことを証明するため、前半と後半の分布を確認する  \n",
    "また、すり替えたタイミングを推定する  \n",
    "\n",
    "事前分布：ベータ一様分布  \n",
    "前半の真の確率：0.5  \n",
    "後半の真の確率:0.1"
   ]
  },
  {
   "cell_type": "code",
   "execution_count": 121,
   "metadata": {},
   "outputs": [],
   "source": [
    "befor_p = 0.5\n",
    "after_p = 0.1\n",
    "\n",
    "befor_observed = stats.bernoulli.rvs(p = befor_p, size = 1000)\n",
    "after_observed = stats.bernoulli.rvs(p = after_p, size = 1000)\n",
    "\n",
    "observed = np.concatenate([befor_observed, after_observed])\n",
    "n = len(observed)"
   ]
  },
  {
   "cell_type": "code",
   "execution_count": 123,
   "metadata": {},
   "outputs": [
    {
     "name": "stderr",
     "output_type": "stream",
     "text": [
      "Sequential sampling (1 chains in 1 job)\n",
      "CompoundStep\n",
      ">NUTS: [p_2, p_1]\n",
      ">Metropolis: [tau]\n",
      "100%|██████████| 1500/1500 [00:01<00:00, 1005.80it/s]\n",
      "Only one chain was sampled, this makes it impossible to run some convergence checks\n"
     ]
    }
   ],
   "source": [
    "with pm.Model() as model:\n",
    "    count = np.arange(n)\n",
    "    \n",
    "    p_1 = pm.Beta(\"p_1\", alpha = 1, beta = 1)\n",
    "    p_2 = pm.Beta(\"p_2\", alpha = 1, beta = 1)\n",
    "    \n",
    "    tau = pm.DiscreteUniform(\"tau\", lower=0, upper=n)\n",
    "    \n",
    "    p_mix = pm.math.switch(count < tau, p_1, p_2)\n",
    "    \n",
    "    obs = pm.Bernoulli(\"obs\", p = p_mix , observed=observed)\n",
    "    \n",
    "    trace_3= pm.sample(1000, chains=1)"
   ]
  },
  {
   "cell_type": "code",
   "execution_count": 130,
   "metadata": {},
   "outputs": [
    {
     "data": {
      "image/png": "[encoded data removed]",
      "text/plain": [
       "<Figure size 432x288 with 1 Axes>"
      ]
     },
     "metadata": {
      "needs_background": "light"
     },
     "output_type": "display_data"
    }
   ],
   "source": [
    "plt.hist(trace_3[\"p_1\"], color=\"g\")\n",
    "plt.hist(trace_3[\"p_2\"], color=\"b\")\n",
    "plt.show()"
   ]
  },
  {
   "cell_type": "markdown",
   "metadata": {},
   "source": [
    "前半部分と後半部分で確率がかなり異なっているため、すり替えたと考えられる"
   ]
  },
  {
   "cell_type": "code",
   "execution_count": 133,
   "metadata": {},
   "outputs": [
    {
     "data": {
      "text/plain": [
       "'summary'"
      ]
     },
     "metadata": {},
     "output_type": "display_data"
    },
    {
     "data": {
      "text/html": [
       "<div>\n",
       "<style scoped>\n",
       "    .dataframe tbody tr th:only-of-type {\n",
       "        vertical-align: middle;\n",
       "    }\n",
       "\n",
       "    .dataframe tbody tr th {\n",
       "        vertical-align: top;\n",
       "    }\n",
       "\n",
       "    .dataframe thead th {\n",
       "        text-align: right;\n",
       "    }\n",
       "</style>\n",
       "<table border=\"1\" class=\"dataframe\">\n",
       "  <thead>\n",
       "    <tr style=\"text-align: right;\">\n",
       "      <th></th>\n",
       "      <th>mean</th>\n",
       "      <th>sd</th>\n",
       "      <th>mc_error</th>\n",
       "      <th>hpd_2.5</th>\n",
       "      <th>hpd_97.5</th>\n",
       "    </tr>\n",
       "  </thead>\n",
       "  <tbody>\n",
       "    <tr>\n",
       "      <th>tau</th>\n",
       "      <td>1009.679000</td>\n",
       "      <td>3.720747</td>\n",
       "      <td>0.301945</td>\n",
       "      <td>1002.000000</td>\n",
       "      <td>1016.000000</td>\n",
       "    </tr>\n",
       "    <tr>\n",
       "      <th>p_1</th>\n",
       "      <td>0.507090</td>\n",
       "      <td>0.015850</td>\n",
       "      <td>0.000418</td>\n",
       "      <td>0.477599</td>\n",
       "      <td>0.538168</td>\n",
       "    </tr>\n",
       "    <tr>\n",
       "      <th>p_2</th>\n",
       "      <td>0.093733</td>\n",
       "      <td>0.009328</td>\n",
       "      <td>0.000275</td>\n",
       "      <td>0.074946</td>\n",
       "      <td>0.110708</td>\n",
       "    </tr>\n",
       "  </tbody>\n",
       "</table>\n",
       "</div>"
      ],
      "text/plain": [
       "            mean        sd  mc_error      hpd_2.5     hpd_97.5\n",
       "tau  1009.679000  3.720747  0.301945  1002.000000  1016.000000\n",
       "p_1     0.507090  0.015850  0.000418     0.477599     0.538168\n",
       "p_2     0.093733  0.009328  0.000275     0.074946     0.110708"
      ]
     },
     "metadata": {},
     "output_type": "display_data"
    },
    {
     "data": {
      "image/png": "[encoded data removed]",
      "text/plain": [
       "<Figure size 432x288 with 1 Axes>"
      ]
     },
     "metadata": {
      "needs_background": "light"
     },
     "output_type": "display_data"
    }
   ],
   "source": [
    "display(\"summary\", pm.summary(trace_3))\n",
    "plt.hist(trace_3[\"tau\"])\n",
    "plt.show()"
   ]
  },
  {
   "cell_type": "markdown",
   "metadata": {},
   "source": [
    "真のタイミングは10000回目、推定値は10009回目で概ね正解である"
   ]
  },
  {
   "cell_type": "code",
   "execution_count": null,
   "metadata": {},
   "outputs": [],
   "source": []
  }
 ],
 "metadata": {
  "kernelspec": {
   "display_name": "Python 3",
   "language": "python",
   "name": "python3"
  },
  "language_info": {
   "codemirror_mode": {
    "name": "ipython",
    "version": 3
   },
   "file_extension": ".py",
   "mimetype": "text/x-python",
   "name": "python",
   "nbconvert_exporter": "python",
   "pygments_lexer": "ipython3",
   "version": "3.7.3"
  },
  "toc": {
   "base_numbering": 1,
   "nav_menu": {},
   "number_sections": true,
   "sideBar": true,
   "skip_h1_title": false,
   "title_cell": "Table of Contents",
   "title_sidebar": "Contents",
   "toc_cell": false,
   "toc_position": {},
   "toc_section_display": true,
   "toc_window_display": false
  }
 },
 "nbformat": 4,
 "nbformat_minor": 2
}
